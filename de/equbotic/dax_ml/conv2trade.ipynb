{
  "nbformat": 4,
  "nbformat_minor": 0,
  "metadata": {
    "colab": {
      "provenance": [],
      "include_colab_link": true
    },
    "kernelspec": {
      "name": "python3",
      "display_name": "Python 3"
    },
    "language_info": {
      "name": "python"
    }
  },
  "cells": [
    {
      "cell_type": "markdown",
      "metadata": {
        "id": "view-in-github",
        "colab_type": "text"
      },
      "source": [
        "<a href=\"https://colab.research.google.com/github/adrianphilo/finance/blob/main/de/equbotic/dax_ml/conv2trade.ipynb\" target=\"_parent\"><img src=\"https://colab.research.google.com/assets/colab-badge.svg\" alt=\"Open In Colab\"/></a>"
      ]
    },
    {
      "cell_type": "code",
      "execution_count": 1,
      "metadata": {
        "colab": {
          "base_uri": "https://localhost:8080/"
        },
        "id": "i1DAL1aKDHQF",
        "outputId": "36e94143-2b75-48eb-b515-4108c63b010f"
      },
      "outputs": [
        {
          "output_type": "stream",
          "name": "stdout",
          "text": [
            "Mounted at /content/drive\n"
          ]
        }
      ],
      "source": [
        "from google.colab import drive\n",
        "drive.mount('/content/drive')"
      ]
    },
    {
      "cell_type": "code",
      "source": [
        "# count = 0\n",
        "# skiplines = 550\n",
        "# name  = '_prc_24_04_09'\n",
        "name = \"todo01_inp.txt\"\n",
        "path  = \"/content/drive/MyDrive/EndspurtAbi/python_ml/tmp_dax2/\""
      ],
      "metadata": {
        "id": "SmQvPpBqD63h"
      },
      "execution_count": 2,
      "outputs": []
    },
    {
      "cell_type": "code",
      "source": [
        "def convert_dax2Last(path, name):\n",
        "  fileOut = open(path + 'convLast/'+name+'.csv', 'w')\n",
        "  fileOut.write(\"time, price, size\\n\")\n",
        "  lastrow = [0, 0, 0]     # time, prc, size\n",
        "\n",
        "  with open(path +name) as f:\n",
        "    for line in f:\n",
        "      if line.startswith(\"TICKPRIC_LAST\"):\n",
        "        spl = line.split(' ')\n",
        "        lastrow[1] = int(float(spl[2]) * 10)   # must be long for numpy-array\n",
        "\n",
        "      if line.startswith(\"TICKSIZE_LAST\") and lastrow[1] > 0:\n",
        "        spl = line.split(' ')\n",
        "        lastrow[0] = int(spl[1] )       # time\n",
        "        lastrow[2] = int(spl[2] )       # size\n",
        "        fileOut.write(str(lastrow[0]) + ',' +str(lastrow[1]) + ',' + str(lastrow[2]) + '\\n')\n",
        "\n",
        "  fileOut.close()\n",
        "  print(\"write ende : \"  + name)"
      ],
      "metadata": {
        "id": "9mVprdA2GWpE"
      },
      "execution_count": 3,
      "outputs": []
    },
    {
      "cell_type": "code",
      "source": [
        "convert_dax2Last(path, name)"
      ],
      "metadata": {
        "colab": {
          "base_uri": "https://localhost:8080/"
        },
        "id": "6EyFc2d2So5C",
        "outputId": "c352fbef-6c0c-46f5-8d9d-6bf89bff7164"
      },
      "execution_count": 4,
      "outputs": [
        {
          "output_type": "stream",
          "name": "stdout",
          "text": [
            "write ende : todo01_inp.txt\n"
          ]
        }
      ]
    }
  ]
}