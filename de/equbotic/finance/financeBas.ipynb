{
  "nbformat": 4,
  "nbformat_minor": 0,
  "metadata": {
    "colab": {
      "name": "financeBas.ipynb",
      "provenance": [],
      "collapsed_sections": [],
      "include_colab_link": true
    },
    "kernelspec": {
      "name": "python3",
      "display_name": "Python 3"
    },
    "language_info": {
      "name": "python"
    }
  },
  "cells": [
    {
      "cell_type": "markdown",
      "metadata": {
        "id": "view-in-github",
        "colab_type": "text"
      },
      "source": [
        "<a href=\"https://colab.research.google.com/github/adrianphilo/finance/blob/main/de/equbotic/finance/financeBas.ipynb\" target=\"_parent\"><img src=\"https://colab.research.google.com/assets/colab-badge.svg\" alt=\"Open In Colab\"/></a>"
      ]
    },
    {
      "cell_type": "code",
      "metadata": {
        "colab": {
          "base_uri": "https://localhost:8080/"
        },
        "id": "cNC8Hykdn3Hu",
        "outputId": "3f7e95ad-39fe-40f7-8758-0debf28068c1"
      },
      "source": [
        "import importlib\n",
        "import financeBas as fiB\n",
        "importlib.reload(fiB)"
      ],
      "execution_count": 24,
      "outputs": [
        {
          "output_type": "execute_result",
          "data": {
            "text/plain": [
              "<module 'financeBas' from '/content/financeBas.py'>"
            ]
          },
          "metadata": {},
          "execution_count": 24
        }
      ]
    },
    {
      "cell_type": "markdown",
      "metadata": {
        "id": "9zN7OvJRqx63"
      },
      "source": [
        "**DF_ofCash**(cashRate, days, base) >> $DF = \\frac 1 { 1 + cashRate * \\frac{days} {base} } $  \n",
        "\n",
        "\n"
      ]
    },
    {
      "cell_type": "code",
      "metadata": {
        "colab": {
          "base_uri": "https://localhost:8080/"
        },
        "id": "57zfaaOpxFBj",
        "outputId": "c451bbe7-be93-48d1-8e8a-db26b1301c1b"
      },
      "source": [
        "print ( fiB.DF_ofCash(0.02,  60, 360) )\n",
        "print ( fiB.DF_ofCash(0.04, 120, 365) )\n",
        "help(fiB.DF_ofCash)"
      ],
      "execution_count": 3,
      "outputs": [
        {
          "output_type": "stream",
          "name": "stdout",
          "text": [
            "0.9966777408637874\n",
            "0.9870200108166577\n",
            "Help on function DF_ofCash in module financeBas:\n",
            "\n",
            "DF_ofCash(cashRate, days, base)\n",
            "    returns the Discountfactor for a CashRate\n",
            "    :param cashRate: the Cash Interestrate to be converted as a Factor\n",
            "    :param days: the number of days in the period\n",
            "    :param base: the DayCountBase of the Rate (e.g. 360 or 365)\n",
            "    :return: the DiscountFactor at the end of the period\n",
            "\n"
          ]
        }
      ]
    },
    {
      "cell_type": "markdown",
      "metadata": {
        "id": "KnmNda68Z14I"
      },
      "source": [
        "**ZeroRate_ofDF**(df, days) >> $ZeroRate = \\frac {-LOGn(df)} { \\frac{days} {365} } = \\frac {365}{days} * LOGn ( \\frac {1}{df} ) $  "
      ]
    },
    {
      "cell_type": "code",
      "metadata": {
        "colab": {
          "base_uri": "https://localhost:8080/"
        },
        "id": "EutxX2yX7SKr",
        "outputId": "5fe7673a-fda8-4543-e939-a45d8e190e31"
      },
      "source": [
        "print ( fiB.ZeroRate_ofDF(0.996,  60) )\n",
        "print ( fiB.ZeroRate_ofDF(0.987, 120) )\n",
        "help(fiB.ZeroRate_ofDF)"
      ],
      "execution_count": 4,
      "outputs": [
        {
          "output_type": "stream",
          "name": "stdout",
          "text": [
            "0.024382130168361167\n",
            "0.039800936960493756\n",
            "Help on function ZeroRate_ofDF in module financeBas:\n",
            "\n",
            "ZeroRate_ofDF(df, days)\n",
            "    returns the continously compounded ZeroRate for a DiscountFactor (as Factor on Base 365)\n",
            "    :param DiscountFactor: to be converted\n",
            "    :param days: the number of days in the period\n",
            "    :return: the ZeroRate for the period\n",
            "\n"
          ]
        }
      ]
    },
    {
      "cell_type": "markdown",
      "metadata": {
        "id": "mIoF6vBrITwi"
      },
      "source": [
        "**PV_ofCoupon(0.03, 5)** >> $ PresentValue (FaceVal:1) = \\sum {\\frac {cpn}{(1+cpn)^{yr}}} + \\frac {1}{(1+cpn)^{years}} $\n",
        "\n"
      ]
    },
    {
      "cell_type": "code",
      "metadata": {
        "colab": {
          "base_uri": "https://localhost:8080/"
        },
        "id": "hZ41ZWoVHujA",
        "outputId": "ffe49679-e5f0-4015-ba03-e1ab0c5680d7"
      },
      "source": [
        "print ( fiB.PV_ofCoupon(0.03, 5) )\n",
        "print ( fiB.PV_ofCoupon(0.04, 10) )\n",
        "help  ( fiB.PV_ofCoupon )"
      ],
      "execution_count": 19,
      "outputs": [
        {
          "output_type": "stream",
          "name": "stdout",
          "text": [
            "0.9661218385102635\n",
            "0.9187672696030861\n",
            "Help on function PV_ofCoupon in module financeBas:\n",
            "\n",
            "PV_ofCoupon(cpn, years)\n",
            "    calcs the PresentValue of a fixed Coupon Cashflow\n",
            "    :param cpn: the coupon \n",
            "    :param years: Maturity in Years\n",
            "    :return: the present value\n",
            "\n"
          ]
        }
      ]
    },
    {
      "cell_type": "code",
      "metadata": {
        "id": "-mt4V06digzO"
      },
      "source": [
        "def addRateToCurve(dates, dfs, zeros, cashRate, days, base, fwdstart):\n",
        "  \"\"\"adds a rate or forward rate to the curve (lists of dates, dfs, zeros)\n",
        "  \"\"\"\n",
        "  df   = fiB.DF_ofCash(cashRate, days, base)\n",
        "  if (fwdstart > 0):\n",
        "    ii = dates.index(fwdstart)\n",
        "    df = df * dfs[ii]\n",
        "\n",
        "  days0 = days + fwdstart\n",
        "  zero  = fiB.ZeroRate_ofDF(df, days0)\n",
        "\n",
        "  dates.append( days0 ) \n",
        "  dfs  .append( df )  \n",
        "  zeros.append( zero )\n"
      ],
      "execution_count": 34,
      "outputs": []
    },
    {
      "cell_type": "code",
      "metadata": {
        "id": "Hh-Y1MFdLAcX"
      },
      "source": [
        "def addParCpnToCurve(dates, dfs, zeros, cpn, years, mtrdays, lastcpndays):\n",
        "  \"\"\" adds a ParCoupon Rate (SwapRate) ro the curve. \n",
        "      only yearly and the last cpn date must be known and in the curve.\n",
        "      swap starts at spot date.\n",
        "      :param lastcpndays: ist the days from today to coupondate before matirity\n",
        "  \"\"\"\n",
        "  pv_spot = fiB.PV_ofCoupon(cpn, years)\n",
        "  ii_spot = dates.index(2)\n",
        "  print(\"pv_spot \",pv_spot)\n",
        "  pv = pv_spot * dfs[ii_spot]   #present value at today\n",
        "  print(\"pv \",pv)\n",
        "\n",
        "  ii_lastcpn = dates.index(lastcpndays)\n",
        "  df_lastcpn = dfs[ii_lastcpn]     #df at lastcpn date\n",
        "  print(\"df_lastcpn \",df_lastcpn)\n",
        "  pv_lastcpn = pv / df_lastcpn  #pf updisc. ro last cpn date\n",
        "  print(\"pv_lastcpn \",pv_lastcpn) \n",
        "\n",
        "  df_lastprd = 1 / (1+cpn)      #df for last cpn for 1 year\n",
        "  print(\"df_lastprd \",df_lastprd)\n",
        "\n",
        "  df_mtr = df_lastprd * df_lastcpn\n",
        "  print(\"df_mtr \",df_mtr) \n",
        "\n",
        "  zero  = fiB.ZeroRate_ofDF(df_mtr, mtrdays)\n",
        "\n",
        "  dates.append( mtrdays ) \n",
        "  dfs  .append( df_mtr )  \n",
        "  zeros.append( zero )\n"
      ],
      "execution_count": 39,
      "outputs": []
    },
    {
      "cell_type": "code",
      "metadata": {
        "colab": {
          "base_uri": "https://localhost:8080/"
        },
        "id": "t20ThI0WK1wb",
        "outputId": "7f006bc2-3122-4ee7-e7de-175c0216150d"
      },
      "source": [
        "CurveDates = list()\n",
        "CurveDFs   = list()\n",
        "CurveZeros = list()\n",
        "\n",
        "addRateToCurve  (CurveDates, CurveDFs, CurveZeros, 0.02,      1, 360, 0)   #O/N\n",
        "addRateToCurve  (CurveDates, CurveDFs, CurveZeros, 0.02,      1, 360, 1)   #T/N\n",
        "addRateToCurve  (CurveDates, CurveDFs, CurveZeros, 0.02,      1, 360, 2)   #S/N\n",
        "addRateToCurve  (CurveDates, CurveDFs, CurveZeros, 0.024,   365, 360, 2)   #S/N\n",
        "\n",
        "addParCpnToCurve(CurveDates, CurveDFs, CurveZeros, 0.03, 4, 730, 367)   #2yr swap\n",
        "\n",
        "print(CurveDates)\n",
        "print(CurveDFs)\n",
        "CurveZeros"
      ],
      "execution_count": 40,
      "outputs": [
        {
          "output_type": "stream",
          "name": "stdout",
          "text": [
            "pv_spot  0.9684508822281006\n",
            "pv  0.9683432855409934\n",
            "df_lastcpn  0.9761362494117758\n",
            "pv_lastcpn  0.9920165203623178\n",
            "df_lastprd  0.970873786407767\n",
            "df_mtr  0.9477050965162872\n",
            "[1, 2, 3, 367, 730]\n",
            "[0.9999444475306928, 0.9998888981474624, 0.9998333518501374, 0.9761362494117758, 0.9477050965162872]\n"
          ]
        },
        {
          "output_type": "execute_result",
          "data": {
            "text/plain": [
              "[0.020277214527018462,\n",
              " 0.020277214527019853,\n",
              " 0.020277214527018715,\n",
              " 0.02402147796823134,\n",
              " 0.02685595237329397]"
            ]
          },
          "metadata": {},
          "execution_count": 40
        }
      ]
    },
    {
      "cell_type": "code",
      "metadata": {
        "colab": {
          "base_uri": "https://localhost:8080/",
          "height": 282
        },
        "id": "umvg-Cj4pcGK",
        "outputId": "13c5e3e7-8220-4660-f00f-55ccb7fd5546"
      },
      "source": [
        "import matplotlib.pyplot as plt\n",
        "plt.plot(CurveDates, CurveZeros)"
      ],
      "execution_count": 41,
      "outputs": [
        {
          "output_type": "execute_result",
          "data": {
            "text/plain": [
              "[<matplotlib.lines.Line2D at 0x7fb124e9db90>]"
            ]
          },
          "metadata": {},
          "execution_count": 41
        },
        {
          "output_type": "display_data",
          "data": {
            "image/png": "[encoded data removed]",
            "text/plain": [
              "<Figure size 432x288 with 1 Axes>"
            ]
          },
          "metadata": {
            "needs_background": "light"
          }
        }
      ]
    },
    {
      "cell_type": "code",
      "metadata": {
        "id": "61bUmxBbqpeL"
      },
      "source": [
        ""
      ],
      "execution_count": 7,
      "outputs": []
    }
  ]
}