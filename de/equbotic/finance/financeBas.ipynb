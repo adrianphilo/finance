{
  "nbformat": 4,
  "nbformat_minor": 0,
  "metadata": {
    "colab": {
      "name": "financeBas.ipynb",
      "provenance": [],
      "collapsed_sections": [],
      "include_colab_link": true
    },
    "kernelspec": {
      "name": "python3",
      "display_name": "Python 3"
    },
    "language_info": {
      "name": "python"
    }
  },
  "cells": [
    {
      "cell_type": "markdown",
      "metadata": {
        "id": "view-in-github",
        "colab_type": "text"
      },
      "source": [
        "<a href=\"https://colab.research.google.com/github/adrianphilo/finance/blob/main/de/equbotic/finance/financeBas.ipynb\" target=\"_parent\"><img src=\"https://colab.research.google.com/assets/colab-badge.svg\" alt=\"Open In Colab\"/></a>"
      ]
    },
    {
      "cell_type": "code",
      "metadata": {
        "colab": {
          "base_uri": "https://localhost:8080/"
        },
        "id": "cNC8Hykdn3Hu",
        "outputId": "d4d88673-ac42-4d83-fed8-eba632ad41c2"
      },
      "source": [
        "import importlib\n",
        "import financeBas as fiB\n",
        "importlib.reload(fiB)"
      ],
      "execution_count": null,
      "outputs": [
        {
          "output_type": "execute_result",
          "data": {
            "text/plain": [
              "<module 'financeBas' from '/content/financeBas.py'>"
            ]
          },
          "metadata": {},
          "execution_count": 82
        }
      ]
    },
    {
      "cell_type": "markdown",
      "metadata": {
        "id": "9zN7OvJRqx63"
      },
      "source": [
        "**DF_ofCash**(cashRate, days, base) >> $DF = \\frac 1 { 1 + cashRate * \\frac{days} {base} } $  \n",
        "\n",
        "\n"
      ]
    },
    {
      "cell_type": "code",
      "metadata": {
        "colab": {
          "base_uri": "https://localhost:8080/"
        },
        "id": "57zfaaOpxFBj",
        "outputId": "a989c3c5-8d0f-4501-c314-0d62c8209d0a"
      },
      "source": [
        "print ( fiB.DF_ofCash(0.02,  60, 360) )\n",
        "print ( fiB.DF_ofCash(0.04, 120, 365) )\n",
        "help(fiB.DF_ofCash)"
      ],
      "execution_count": null,
      "outputs": [
        {
          "output_type": "stream",
          "name": "stdout",
          "text": [
            "0.9966777408637874\n",
            "0.9870200108166577\n",
            "Help on function DF_ofCash in module financeBas:\n",
            "\n",
            "DF_ofCash(cashRate, days, base)\n",
            "    returns the Discountfactor for a CashRate\n",
            "    :param cashRate: the Cash Interestrate to be converted as a Factor\n",
            "    :param days: the number of days in the period\n",
            "    :param base: the DayCountBase of the Rate (e.g. 360 or 365)\n",
            "    :return: the DiscountFactor at the end of the period\n",
            "\n"
          ]
        }
      ]
    },
    {
      "cell_type": "markdown",
      "metadata": {
        "id": "KnmNda68Z14I"
      },
      "source": [
        "**ZeroRate_ofDF**(df, days) >> $ZeroRate = \\frac {LOGn(df)} { \\frac{days} {365} } $  "
      ]
    },
    {
      "cell_type": "code",
      "metadata": {
        "colab": {
          "base_uri": "https://localhost:8080/"
        },
        "id": "EutxX2yX7SKr",
        "outputId": "4125c6f6-4e59-4cc7-9309-f398fbbc1d14"
      },
      "source": [
        "print ( fiB.ZeroRate_ofDF(0.996,  60) )\n",
        "print ( fiB.ZeroRate_ofDF(0.987, 120) )\n",
        "help(fiB.ZeroRate_ofDF)"
      ],
      "execution_count": null,
      "outputs": [
        {
          "output_type": "stream",
          "name": "stdout",
          "text": [
            "0.024382130168361167\n",
            "0.039800936960493756\n",
            "Help on function ZeroRate_ofDF in module financeBas:\n",
            "\n",
            "ZeroRate_ofDF(df, days)\n",
            "    returns the continously compounded ZeroRate for a DiscountFactor (as Factor on Base 365)\n",
            "    :param DiscountFactor: to be converted\n",
            "    :param days: the number of days in the period\n",
            "    :return: the ZeroRate for the period\n",
            "\n"
          ]
        }
      ]
    },
    {
      "cell_type": "code",
      "metadata": {
        "colab": {
          "base_uri": "https://localhost:8080/"
        },
        "id": "WjylnMp2Vkxb",
        "outputId": "d8ec9913-7b7c-442e-f292-8aff93296020"
      },
      "source": [
        "import pandas as pd\n",
        "daysStart = [0, 1,  2]\n",
        "daysEnd   = [1, 2, 32]\n",
        "curveInst = zip(daysStart, daysEnd)\n",
        "#for (a, b) in curveInst:\n",
        "#  print (a)\n",
        "curveList = list(curveInst)\n",
        "curveList\n",
        "#df = pd.DataFrame(curveInst, columns = ['Name', 'Age'])\n",
        "#df"
      ],
      "execution_count": null,
      "outputs": [
        {
          "output_type": "execute_result",
          "data": {
            "text/plain": [
              "[(0, 1), (1, 2), (2, 32)]"
            ]
          },
          "metadata": {},
          "execution_count": 97
        }
      ]
    },
    {
      "cell_type": "code",
      "metadata": {
        "colab": {
          "base_uri": "https://localhost:8080/"
        },
        "id": "-mt4V06digzO",
        "outputId": "3200f922-9045-4c75-e2ae-48cf6342557e"
      },
      "source": [
        "def addRateToCurve(dates, dfs, zeros, cashRate, days, base, fwdstart):\n",
        "  df   = fiB.DF_ofCash(cashRate, days, base)\n",
        "  zero = fiB.ZeroRate_ofDF(df, days)\n",
        "  if (fwdstart > 0):\n",
        "    ii = dates.index(fwdstart)\n",
        "    df = df * dfs[ii]\n",
        "\n",
        "  dates.append( days ) \n",
        "  dfs  .append( df )  \n",
        "  zeros.append( zero )\n",
        "\n",
        "CurveDates = list()\n",
        "CurveDFs   = list()\n",
        "CurveZeros = list()\n",
        "\n",
        "addRateToCurve(CurveDates, CurveDFs, CurveZeros, 0.09,  1, 360, 0)   #O/N\n",
        "addRateToCurve(CurveDates, CurveDFs, CurveZeros, 0.09,  2, 360, 0)   #T/N\n",
        "addRateToCurve(CurveDates, CurveDFs, CurveZeros, 0.09,  1, 360, 2)   #S/N\n",
        "\n",
        "print(CurveDates)\n",
        "print(CurveDFs)\n",
        "CurveZeros"
      ],
      "execution_count": null,
      "outputs": [
        {
          "output_type": "stream",
          "name": "stdout",
          "text": [
            "[1, 2, 1]\n",
            "[0.9997500624843788, 0.9995002498750625, 0.9992504372657459]\n"
          ]
        },
        {
          "output_type": "execute_result",
          "data": {
            "text/plain": [
              "[0.09123859565072018, 0.09122719510131526, 0.09123859565072018]"
            ]
          },
          "metadata": {},
          "execution_count": 130
        }
      ]
    },
    {
      "cell_type": "code",
      "metadata": {
        "colab": {
          "base_uri": "https://localhost:8080/",
          "height": 282
        },
        "id": "umvg-Cj4pcGK",
        "outputId": "90559f74-9ce9-4204-d3ee-aa6b8cd1b332"
      },
      "source": [
        "import matplotlib.pyplot as plt\n",
        "plt.plot(CurveDates, CurveZeros)"
      ],
      "execution_count": null,
      "outputs": [
        {
          "output_type": "execute_result",
          "data": {
            "text/plain": [
              "[<matplotlib.lines.Line2D at 0x7fa873080490>]"
            ]
          },
          "metadata": {},
          "execution_count": 131
        },
        {
          "output_type": "display_data",
          "data": {
            "image/png": "[encoded data removed]",
            "text/plain": [
              "<Figure size 432x288 with 1 Axes>"
            ]
          },
          "metadata": {
            "needs_background": "light"
          }
        }
      ]
    },
    {
      "cell_type": "code",
      "metadata": {
        "id": "61bUmxBbqpeL"
      },
      "source": [
        ""
      ],
      "execution_count": null,
      "outputs": []
    }
  ]
}